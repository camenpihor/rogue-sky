{
 "cells": [
  {
   "cell_type": "markdown",
   "metadata": {},
   "source": [
    "# RogueSky\n",
    "\n",
    "author: camen  \n",
    "last run: 2019-12-12"
   ]
  },
  {
   "cell_type": "code",
   "execution_count": 1,
   "metadata": {},
   "outputs": [],
   "source": [
    "import contextlib\n",
    "import json\n",
    "import logging\n",
    "import os\n",
    "\n",
    "import requests_mock\n",
    "\n",
    "from rogue_sky import darksky, stars\n",
    "\n",
    "DARKSKY_API_KEY = \"test_api_key\"\n",
    "\n",
    "COORDINATES = (47.6062, -122.3321)  # seattle\n",
    "DARKSKY_URL = f\"https://api.darksky.net/forecast/{DARKSKY_API_KEY}/{COORDINATES[0]},{COORDINATES[1]}\"\n",
    "\n",
    "logging.basicConfig(level=logging.INFO)"
   ]
  },
  {
   "cell_type": "markdown",
   "metadata": {},
   "source": [
    "## Table of Contents\n",
    "\n",
    "1. [Set Up](#Set-Up)\n",
    "2. [Introduction](#Introduction)\n",
    "3. [Working with DarkSky](#Working-with-DarkSky)\n",
    "    1. [Using the main entry point](#Using-the-weather-main-entry-point...)\n",
    "    2. [Going through the steps](#Going-through-the-steps...)\n",
    "        2. [From DarkSky](#From-DarkSky)\n",
    "        4. [Serialize the output](#Serialize-the-output)\n",
    "    3. [Understanding the data](#Understanding-the-data)\n",
    "4. [Star Predictions](#Star-Predictions)\n",
    "    1. [Using the main entry point](#Using-the-stars-main-entry-point...)"
   ]
  },
  {
   "cell_type": "markdown",
   "metadata": {},
   "source": [
    "## Set Up"
   ]
  },
  {
   "cell_type": "code",
   "execution_count": 2,
   "metadata": {},
   "outputs": [],
   "source": [
    "# set up the mock for requests (we won't actually hit the DarkSky API)\n",
    "@contextlib.contextmanager\n",
    "def mock_darksky_api():\n",
    "    with requests_mock.Mocker() as mock:\n",
    "        with open(\"resources/darksky_response.json\") as json_file:\n",
    "            data = json.load(json_file)\n",
    "        mock.get(DARKSKY_URL, json=data)\n",
    "        yield"
   ]
  },
  {
   "cell_type": "markdown",
   "metadata": {},
   "source": [
    "## Introduction\n",
    "\n",
    "Predict star visibility from DarkSky's daily weather forecast. In this notebook, we will query DarkSky for a daily weather forecast, show some information about that forecast, and predict the star visibility from it."
   ]
  },
  {
   "cell_type": "markdown",
   "metadata": {},
   "source": [
    "## Working with DarkSky\n",
    "\n",
    "### Using the weather main entry point..."
   ]
  },
  {
   "cell_type": "markdown",
   "metadata": {},
   "source": [
    "First, lets see it all work together... The main entry point into the darksky module is the `get_weather_forecast` method. This method:\n",
    "    1. Hits the DarkSky API for the daily weather forecast\n",
    "    3. Serializes the daily weather forecast into a JSON-parseable response that can be sent from the RogueSky API to the RogueSky frontend\n",
    "\n",
    "The final output is of this form: \n",
    "```\n",
    "{\n",
    "    \"0\": {\n",
    "        \"latitude\": 42.3601,\n",
    "        \"longitude\": -71.0589,\n",
    "        \"queried_date_utc\": \"2019-01-01\",\n",
    "        \"weather_date_local\": \"2019-11-10\",\n",
    "        \"weather_json\": weather_json,\n",
    "    },\n",
    "    \"1\": {\n",
    "        \"latitude\": 42.3601,\n",
    "        \"longitude\": -71.0589,\n",
    "        \"queried_date_utc\": \"2019-01-01\",\n",
    "        \"weather_date_local\": \"2019-11-11\",\n",
    "        \"weather_json\": weather_json,\n",
    "    },\n",
    "    ...\n",
    "}\n",
    "```"
   ]
  },
  {
   "cell_type": "code",
   "execution_count": 3,
   "metadata": {},
   "outputs": [
    {
     "name": "stderr",
     "output_type": "stream",
     "text": [
      "INFO:rogue_sky.darksky:Getting daily weather forecast for (47.6062, -122.3321) on 2019-12-12\n",
      "INFO:rogue_sky.darksky:(47.6062, -122.3321, 2019-12-12): Requesting from DarkSky with parameters {'query_parameters': {'exclude': ['alerts', 'flags', 'hourly', 'minutely', 'offset', 'currently']}}\n",
      "INFO:rogue_sky.darksky:(47.6062, -122.3321, 2019-12-12): Serializing to API output...\n"
     ]
    },
    {
     "name": "stdout",
     "output_type": "stream",
     "text": [
      "dict_keys(['latitude', 'longitude', 'queried_date_utc', 'daily_forecast'])\n"
     ]
    },
    {
     "data": {
      "text/plain": [
       "{'cloud_cover_pct': 0.93,\n",
       " 'dew_point_f': 48.57,\n",
       " 'humidity_pct': 0.94,\n",
       " 'icon': 'fog',\n",
       " 'moon_phase_pct': 0.46,\n",
       " 'ozone': 262.2,\n",
       " 'precip_intensity_avg_in_hr': 0.0004,\n",
       " 'precip_intensity_max_in_hr': 0.0024,\n",
       " 'precip_probability': 0.34,\n",
       " 'precip_type': 'rain',\n",
       " 'pressure': 1026.1,\n",
       " 'summary': 'Foggy in the morning.',\n",
       " 'sunrise_time_local': '2019-11-10T07:09:00-08:00',\n",
       " 'sunset_time_local': '2019-11-10T16:41:00-08:00',\n",
       " 'temperature_max_f': 53.25,\n",
       " 'temperature_min_f': 44.73,\n",
       " 'uv_index': 1,\n",
       " 'visibility_mi': 5.174,\n",
       " 'weather_date_local': '2019-11-10',\n",
       " 'wind_gust_mph': 11.25,\n",
       " 'wind_speed_mph': 3.93}"
      ]
     },
     "execution_count": 3,
     "metadata": {},
     "output_type": "execute_result"
    }
   ],
   "source": [
    "with mock_darksky_api():\n",
    "    backend_weather_response = darksky.get_weather_forecast(\n",
    "        latitude=COORDINATES[0], \n",
    "        longitude=COORDINATES[1],\n",
    "        api_key=DARKSKY_API_KEY\n",
    "    )\n",
    "\n",
    "print(backend_weather_response.keys())\n",
    "backend_weather_response[\"daily_forecast\"][0]"
   ]
  },
  {
   "cell_type": "markdown",
   "metadata": {},
   "source": [
    "### Going through the steps...\n",
    "\n",
    "1. Request from darksky (`darksky._from_darksky`)\n",
    "3. Serialize (`darksky._serialize`) and return"
   ]
  },
  {
   "cell_type": "markdown",
   "metadata": {},
   "source": [
    "#### From DarkSky\n",
    "\n",
    "```\n",
    "[\n",
    "    {\n",
    "        latitude: 42.3601,\n",
    "        longitude: -71.0589,\n",
    "        queried_date_utc: \"2019-01-01\",\n",
    "        weather_date_local: \"2019-01-01\",\n",
    "        weather_json: JSON({\n",
    "            ...\n",
    "        })\n",
    "    },\n",
    "    ...\n",
    "]\n",
    "```"
   ]
  },
  {
   "cell_type": "code",
   "execution_count": 4,
   "metadata": {},
   "outputs": [
    {
     "name": "stderr",
     "output_type": "stream",
     "text": [
      "INFO:rogue_sky.darksky:(47.6062, -122.3321, 2019-12-12): Requesting from DarkSky with parameters {'query_parameters': {'exclude': ['alerts', 'flags', 'hourly', 'minutely', 'offset', 'currently']}}\n"
     ]
    },
    {
     "data": {
      "text/plain": [
       "{'latitude': 47.6062,\n",
       " 'longitude': -122.3321,\n",
       " 'queried_date_utc': '2019-12-12',\n",
       " 'weather_date_local': '2019-11-10',\n",
       " 'weather_json': '{\"cloud_cover_pct\": 0.93, \"dew_point_f\": 48.57, \"humidity_pct\": 0.94, \"icon\": \"fog\", \"moon_phase_pct\": 0.46, \"ozone\": 262.2, \"precip_intensity_avg_in_hr\": 0.0004, \"precip_intensity_max_in_hr\": 0.0024, \"precip_probability\": 0.34, \"precip_type\": \"rain\", \"pressure\": 1026.1, \"summary\": \"Foggy in the morning.\", \"sunrise_time_local\": \"2019-11-10T07:09:00-08:00\", \"sunset_time_local\": \"2019-11-10T16:41:00-08:00\", \"temperature_max_f\": 53.25, \"temperature_min_f\": 44.73, \"uv_index\": 1, \"visibility_mi\": 5.174, \"weather_date_local\": \"2019-11-10\", \"wind_gust_mph\": 11.25, \"wind_speed_mph\": 3.93}'}"
      ]
     },
     "execution_count": 4,
     "metadata": {},
     "output_type": "execute_result"
    }
   ],
   "source": [
    "# Query DarkSky and parse...\n",
    "with mock_darksky_api():\n",
    "    darksky_weather_response = darksky._from_darksky(\n",
    "        latitude=COORDINATES[0],\n",
    "        longitude=COORDINATES[1],\n",
    "        queried_date_utc=backend_weather_response[\"queried_date_utc\"],\n",
    "        api_key=DARKSKY_API_KEY,\n",
    "    )\n",
    "\n",
    "darksky_weather_response[0]"
   ]
  },
  {
   "cell_type": "markdown",
   "metadata": {},
   "source": [
    "#### Serialize the output\n",
    "\n",
    "```\n",
    "{\n",
    "    \"0\": {\n",
    "        \"latitude\": 42.3601,\n",
    "        \"longitude\": -71.0589,\n",
    "        \"queried_date_utc\": \"2019-11-10\",\n",
    "        \"weather_date_local\": \"2019-11-10\",\n",
    "        \"weather_json\": weather_json,\n",
    "    },\n",
    "    \"1\": {\n",
    "        \"latitude\": 42.3601,\n",
    "        \"longitude\": -71.0589,\n",
    "        \"queried_date_utc\": \"2019-01-01\",\n",
    "        \"weather_date_local\": \"2019-11-11\",\n",
    "        \"weather_json\": weather_json,\n",
    "    },\n",
    "    ...\n",
    "}\n",
    "```"
   ]
  },
  {
   "cell_type": "code",
   "execution_count": 5,
   "metadata": {},
   "outputs": [
    {
     "name": "stderr",
     "output_type": "stream",
     "text": [
      "INFO:rogue_sky.darksky:(47.6062, -122.3321, 2019-12-12): Serializing to API output...\n"
     ]
    },
    {
     "name": "stdout",
     "output_type": "stream",
     "text": [
      "dict_keys(['latitude', 'longitude', 'queried_date_utc', 'daily_forecast'])\n"
     ]
    },
    {
     "data": {
      "text/plain": [
       "{'cloud_cover_pct': 0.93,\n",
       " 'dew_point_f': 48.57,\n",
       " 'humidity_pct': 0.94,\n",
       " 'icon': 'fog',\n",
       " 'moon_phase_pct': 0.46,\n",
       " 'ozone': 262.2,\n",
       " 'precip_intensity_avg_in_hr': 0.0004,\n",
       " 'precip_intensity_max_in_hr': 0.0024,\n",
       " 'precip_probability': 0.34,\n",
       " 'precip_type': 'rain',\n",
       " 'pressure': 1026.1,\n",
       " 'summary': 'Foggy in the morning.',\n",
       " 'sunrise_time_local': '2019-11-10T07:09:00-08:00',\n",
       " 'sunset_time_local': '2019-11-10T16:41:00-08:00',\n",
       " 'temperature_max_f': 53.25,\n",
       " 'temperature_min_f': 44.73,\n",
       " 'uv_index': 1,\n",
       " 'visibility_mi': 5.174,\n",
       " 'weather_date_local': '2019-11-10',\n",
       " 'wind_gust_mph': 11.25,\n",
       " 'wind_speed_mph': 3.93}"
      ]
     },
     "execution_count": 5,
     "metadata": {},
     "output_type": "execute_result"
    }
   ],
   "source": [
    "serialized_daily_weather_forecast = darksky._serialize(response=darksky_weather_response)\n",
    "\n",
    "print(serialized_daily_weather_forecast.keys())\n",
    "serialized_daily_weather_forecast[\"daily_forecast\"][0]"
   ]
  },
  {
   "cell_type": "markdown",
   "metadata": {},
   "source": [
    "### Understanding the data\n",
    "\n",
    "```\n",
    "{\n",
    "    'latitude': 47.6062,\n",
    "    'longitude': -122.3321,\n",
    "    'timezone': 'America/Los_Angeles',\n",
    "    'currently': dict  current weather,\n",
    "    'minutely': {\n",
    "        'icon': 'cloudy',\n",
    "        'data': [dict]  forecast by minute for 60 minutes\n",
    "    },\n",
    "    'hourly': {\n",
    "        'summary': 'cloudy',\n",
    "        'icon': 'cloudy',\n",
    "        'data': [dict]  forecast by hour for 48 hours\n",
    "    },\n",
    "    'daily': {\n",
    "        'summary': 'cloudy',\n",
    "        'icon': 'cloudy',\n",
    "        'data': [dict]  forecast by day for 8 days, including today\n",
    "    }\n",
    "    \n",
    "```"
   ]
  },
  {
   "cell_type": "code",
   "execution_count": 6,
   "metadata": {},
   "outputs": [],
   "source": [
    "# the response from DarkSky\n",
    "\n",
    "with open(\"resources/darksky_response.json\") as json_file:\n",
    "    darksky_api_data = json.load(json_file)"
   ]
  },
  {
   "cell_type": "code",
   "execution_count": 7,
   "metadata": {},
   "outputs": [
    {
     "data": {
      "text/plain": [
       "dict_keys(['latitude', 'longitude', 'timezone', 'currently', 'minutely', 'hourly', 'daily', 'flags', 'offset'])"
      ]
     },
     "execution_count": 7,
     "metadata": {},
     "output_type": "execute_result"
    }
   ],
   "source": [
    "darksky_api_data.keys()"
   ]
  },
  {
   "cell_type": "code",
   "execution_count": 8,
   "metadata": {},
   "outputs": [
    {
     "data": {
      "text/plain": [
       "dict_keys(['summary', 'icon', 'data'])"
      ]
     },
     "execution_count": 8,
     "metadata": {},
     "output_type": "execute_result"
    }
   ],
   "source": [
    "darksky_api_data[\"daily\"].keys()"
   ]
  },
  {
   "cell_type": "code",
   "execution_count": 9,
   "metadata": {},
   "outputs": [
    {
     "data": {
      "text/plain": [
       "list"
      ]
     },
     "execution_count": 9,
     "metadata": {},
     "output_type": "execute_result"
    }
   ],
   "source": [
    "type(darksky_api_data[\"daily\"][\"data\"])"
   ]
  },
  {
   "cell_type": "code",
   "execution_count": 10,
   "metadata": {},
   "outputs": [
    {
     "data": {
      "text/plain": [
       "['time',\n",
       " 'summary',\n",
       " 'icon',\n",
       " 'sunriseTime',\n",
       " 'sunsetTime',\n",
       " 'moonPhase',\n",
       " 'precipIntensity',\n",
       " 'precipIntensityMax',\n",
       " 'precipIntensityMaxTime',\n",
       " 'precipProbability',\n",
       " 'precipType',\n",
       " 'temperatureHigh',\n",
       " 'temperatureHighTime',\n",
       " 'temperatureLow',\n",
       " 'temperatureLowTime',\n",
       " 'apparentTemperatureHigh',\n",
       " 'apparentTemperatureHighTime',\n",
       " 'apparentTemperatureLow',\n",
       " 'apparentTemperatureLowTime',\n",
       " 'dewPoint',\n",
       " 'humidity',\n",
       " 'pressure',\n",
       " 'windSpeed',\n",
       " 'windGust',\n",
       " 'windGustTime',\n",
       " 'windBearing',\n",
       " 'cloudCover',\n",
       " 'uvIndex',\n",
       " 'uvIndexTime',\n",
       " 'visibility',\n",
       " 'ozone',\n",
       " 'temperatureMin',\n",
       " 'temperatureMinTime',\n",
       " 'temperatureMax',\n",
       " 'temperatureMaxTime',\n",
       " 'apparentTemperatureMin',\n",
       " 'apparentTemperatureMinTime',\n",
       " 'apparentTemperatureMax',\n",
       " 'apparentTemperatureMaxTime']"
      ]
     },
     "execution_count": 10,
     "metadata": {},
     "output_type": "execute_result"
    }
   ],
   "source": [
    "list(darksky_api_data[\"daily\"][\"data\"][0].keys())"
   ]
  },
  {
   "cell_type": "code",
   "execution_count": 11,
   "metadata": {},
   "outputs": [
    {
     "data": {
      "text/plain": [
       "{'time': 1573372800,\n",
       " 'summary': 'Foggy in the morning.',\n",
       " 'icon': 'fog',\n",
       " 'sunriseTime': 1573398540,\n",
       " 'sunsetTime': 1573432860,\n",
       " 'moonPhase': 0.46,\n",
       " 'precipIntensity': 0.0004,\n",
       " 'precipIntensityMax': 0.0024,\n",
       " 'precipIntensityMaxTime': 1573448400,\n",
       " 'precipProbability': 0.34,\n",
       " 'precipType': 'rain',\n",
       " 'temperatureHigh': 53.25,\n",
       " 'temperatureHighTime': 1573422960,\n",
       " 'temperatureLow': 40.82,\n",
       " 'temperatureLowTime': 1573481400,\n",
       " 'apparentTemperatureHigh': 52.75,\n",
       " 'apparentTemperatureHighTime': 1573422960,\n",
       " 'apparentTemperatureLow': 38.74,\n",
       " 'apparentTemperatureLowTime': 1573481520,\n",
       " 'dewPoint': 48.57,\n",
       " 'humidity': 0.94,\n",
       " 'pressure': 1026.1,\n",
       " 'windSpeed': 3.93,\n",
       " 'windGust': 11.25,\n",
       " 'windGustTime': 1573434060,\n",
       " 'windBearing': 353,\n",
       " 'cloudCover': 0.93,\n",
       " 'uvIndex': 1,\n",
       " 'uvIndexTime': 1573415700,\n",
       " 'visibility': 5.174,\n",
       " 'ozone': 262.2,\n",
       " 'temperatureMin': 44.73,\n",
       " 'temperatureMinTime': 1573459200,\n",
       " 'temperatureMax': 53.25,\n",
       " 'temperatureMaxTime': 1573422960,\n",
       " 'apparentTemperatureMin': 42.78,\n",
       " 'apparentTemperatureMinTime': 1573459200,\n",
       " 'apparentTemperatureMax': 52.75,\n",
       " 'apparentTemperatureMaxTime': 1573422960}"
      ]
     },
     "execution_count": 11,
     "metadata": {},
     "output_type": "execute_result"
    }
   ],
   "source": [
    "# times are in UNIX time\n",
    "# `time` is in local time, but all other times are in UTC (e.g. `sunriseTime`)\n",
    "\n",
    "darksky_api_data[\"daily\"][\"data\"][0]"
   ]
  },
  {
   "cell_type": "markdown",
   "metadata": {},
   "source": [
    "## Star Predictions\n",
    "\n",
    "### Using the stars main entry point...\n",
    "\n",
    "Let's see it all work together... The main entry point into the stars module is the `get_star_forecast` method. This method:\n",
    "    1. Hits the DarkSky API for the daily weather forecast and predicts the daily star visibility forecast from the daily weather forecast\n",
    "    3. Serializes the daily star visibility forecast into a JSON-parseable response that can be sent from the RogueSky API to the RogueSky frontend00\n",
    "\n",
    "The final output is of this form: \n",
    "```\n",
    "{\n",
    "    \"0\": {\n",
    "        \"latitude\": 42.3601,\n",
    "        \"longitude\": -71.0589,\n",
    "        \"queried_date_utc\": \"2019-01-01\",\n",
    "        \"weather_date_local\": \"2019-11-10\",\n",
    "        \"prediction\": 0.7,\n",
    "    },\n",
    "    \"1\": {\n",
    "        \"latitude\": 42.3601,\n",
    "        \"longitude\": -71.0589,\n",
    "        \"queried_date_utc\": \"2019-01-01\",\n",
    "        \"weather_date_local\": \"2019-11-11\",\n",
    "        \"prediction\": 0.1,\n",
    "    },\n",
    "    ...\n",
    "}\n",
    "```\n",
    "\n",
    "where 0 is no visibility, and 1 is perfect visibility."
   ]
  },
  {
   "cell_type": "code",
   "execution_count": 12,
   "metadata": {},
   "outputs": [
    {
     "name": "stderr",
     "output_type": "stream",
     "text": [
      "INFO:rogue_sky.stars:Getting daily star visibility forecast for (47.6062, -122.3321) on 2019-12-12\n",
      "INFO:rogue_sky.darksky:Getting daily weather forecast for (47.6062, -122.3321) on 2019-12-12\n",
      "INFO:rogue_sky.darksky:(47.6062, -122.3321, 2019-12-12): Requesting from DarkSky with parameters {'query_parameters': {'exclude': ['alerts', 'flags', 'hourly', 'minutely', 'offset', 'currently']}}\n",
      "INFO:rogue_sky.darksky:(47.6062, -122.3321, 2019-12-12): Serializing to API output...\n",
      "INFO:rogue_sky.stars:(47.6062, -122.3321, 2019-12-12): Serializing to API output...\n"
     ]
    },
    {
     "name": "stdout",
     "output_type": "stream",
     "text": [
      "dict_keys(['latitude', 'longitude', 'queried_date_utc', 'daily_forecast', 'city', 'state'])\n",
      "{'cloud_cover_pct': 0.93, 'dew_point_f': 48.57, 'humidity_pct': 0.94, 'icon': 'fog', 'moon_phase_pct': 0.46, 'ozone': 262.2, 'precip_intensity_avg_in_hr': 0.0004, 'precip_intensity_max_in_hr': 0.0024, 'precip_probability': 0.34, 'precip_type': 'rain', 'pressure': 1026.1, 'summary': 'Foggy in the morning.', 'sunrise_time_local': '2019-11-10T07:09:00-08:00', 'sunset_time_local': '2019-11-10T16:41:00-08:00', 'temperature_max_f': 53.25, 'temperature_min_f': 44.73, 'uv_index': 1, 'visibility_mi': 5.174, 'weather_date_local': '2019-11-10', 'wind_gust_mph': 11.25, 'wind_speed_mph': 3.93, 'star_visibility': 0.07}\n"
     ]
    }
   ],
   "source": [
    "with mock_darksky_api():\n",
    "    backend_star_response = stars.get_star_forecast(\n",
    "        latitude=COORDINATES[0], \n",
    "        longitude=COORDINATES[1],\n",
    "        api_key=DARKSKY_API_KEY,\n",
    "    )\n",
    "\n",
    "print(backend_star_response.keys())\n",
    "print(backend_star_response[\"daily_forecast\"][0])"
   ]
  },
  {
   "cell_type": "code",
   "execution_count": null,
   "metadata": {},
   "outputs": [],
   "source": []
  }
 ],
 "metadata": {
  "kernelspec": {
   "display_name": "rogue-sky3.6",
   "language": "python",
   "name": "rogue_sky3_6"
  },
  "language_info": {
   "codemirror_mode": {
    "name": "ipython",
    "version": 3
   },
   "file_extension": ".py",
   "mimetype": "text/x-python",
   "name": "python",
   "nbconvert_exporter": "python",
   "pygments_lexer": "ipython3",
   "version": "3.6.9"
  }
 },
 "nbformat": 4,
 "nbformat_minor": 2
}
