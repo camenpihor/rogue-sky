{
 "cells": [
  {
   "cell_type": "markdown",
   "metadata": {},
   "source": [
    "# RogueSky\n",
    "\n",
    "author: camen  \n",
    "last run: 2019-11-10"
   ]
  },
  {
   "cell_type": "code",
   "execution_count": 1,
   "metadata": {},
   "outputs": [],
   "source": [
    "import contextlib\n",
    "import json\n",
    "import logging\n",
    "import os\n",
    "\n",
    "import requests_mock\n",
    "\n",
    "from rogue_sky import darksky, postgres_utilities\n",
    "\n",
    "TEST_DATABASE_URL = os.environ[\"TEST_DATABASE_URL\"]\n",
    "DARKSKY_API_KEY = \"test_api_key\"\n",
    "\n",
    "COORDINATES = (47.6062, -122.3321)  # seattle\n",
    "DARKSKY_URL = f\"https://api.darksky.net/forecast/{DARKSKY_API_KEY}/{COORDINATES[0]},{COORDINATES[1]}\"\n",
    "\n",
    "logging.basicConfig(level=logging.INFO)"
   ]
  },
  {
   "cell_type": "markdown",
   "metadata": {},
   "source": [
    "## Table of Contents\n",
    "\n",
    "1. [Set Up](#Set-Up)\n",
    "2. [Introduction](#Introduction)\n",
    "3. [Working with DarkSky](#Working-with-DarkSky)\n",
    "    1. [Using the main entry point](#Using-the-main-entry-point...)\n",
    "    2. [Going through the steps](#Going-through-the-steps...)\n",
    "        1. [Check the database](#From-the-database)\n",
    "        2. [From DarkSky](#From-DarkSky)\n",
    "        3. [To the database](#To-the-database)\n",
    "        4. [Serialize the output](#Serialize-the-output)\n",
    "    3. [Understanding the data](#Understanding-the-data)"
   ]
  },
  {
   "cell_type": "markdown",
   "metadata": {},
   "source": [
    "## Set Up"
   ]
  },
  {
   "cell_type": "code",
   "execution_count": 2,
   "metadata": {},
   "outputs": [],
   "source": [
    "# set up the test database\n",
    "with postgres_utilities.get_cursor(pg_url=TEST_DATABASE_URL) as cursor:\n",
    "    cursor.execute(\"DROP TABLE IF EXISTS daily_weather_forecast\")\n",
    "    \n",
    "postgres_utilities.create_weather_table(pg_url=TEST_DATABASE_URL)"
   ]
  },
  {
   "cell_type": "code",
   "execution_count": 3,
   "metadata": {},
   "outputs": [],
   "source": [
    "# set up the mock for requests (we won't actually hit the DarkSky API)\n",
    "@contextlib.contextmanager\n",
    "def mock_darksky_api():\n",
    "    with requests_mock.Mocker() as mock:\n",
    "        with open(\"resources/darksky_response.json\") as json_file:\n",
    "            data = json.load(json_file)\n",
    "        mock.get(DARKSKY_URL, json=data)\n",
    "        yield"
   ]
  },
  {
   "cell_type": "markdown",
   "metadata": {},
   "source": [
    "## Introduction\n",
    "\n",
    "Predict star visibility from DarkSky's daily weather forecast. In this notebook, we will query DarkSky for a daily weather forecast, show some information about that forecast, and predict the star visibility from it."
   ]
  },
  {
   "cell_type": "markdown",
   "metadata": {},
   "source": [
    "## Working with DarkSky\n",
    "\n",
    "### Using the main entry point..."
   ]
  },
  {
   "cell_type": "markdown",
   "metadata": {},
   "source": [
    "First, lets see it all work together... The main entry point into the darksky module is the `get_weather_forecast` method. This method:\n",
    "    1. Checks the local database to see if a DarkSky query for the same lat-lon coordinates has already been made today, if not it returns that.\n",
    "    2. If there no query has been made today, then it hits the DarkSky API for the daily weather forecast, and persists that to the local database.\n",
    "    3. Serializes the daily weather forecast into a JSON-parseable response that can be sent my the RogueSky API to the RogueSky frontend.\n",
    "\n",
    "The final output is of this form: \n",
    "```\n",
    "{\n",
    "    0: {\n",
    "        \"latitude\": 42.3601,\n",
    "        \"longitude\": -71.0589,\n",
    "        \"queried_date_utc\": \"2019-01-01\",\n",
    "        \"weather_date_utc\": \"2019-11-10\",\n",
    "        \"weather_json\": weather_json,\n",
    "    },\n",
    "    1: {\n",
    "        \"latitude\": 42.3601,\n",
    "        \"longitude\": -71.0589,\n",
    "        \"queried_date_utc\": \"2019-01-01\",\n",
    "        \"weather_date_utc\": \"2019-11-11\",\n",
    "        \"weather_json\": weather_json,\n",
    "    },\n",
    "    ...\n",
    "}\n",
    "```"
   ]
  },
  {
   "cell_type": "code",
   "execution_count": 4,
   "metadata": {},
   "outputs": [
    {
     "name": "stderr",
     "output_type": "stream",
     "text": [
      "INFO:rogue_sky.darksky:Getting daily weather forecast for (47.6062, -122.3321) on 2019-11-14\n",
      "INFO:rogue_sky.darksky:(47.6062, -122.3321, 2019-11-14): Checking database...\n",
      "INFO:rogue_sky.darksky:(47.6062, -122.3321, 2019-11-14): Not found in database...\n",
      "INFO:rogue_sky.darksky:(47.6062, -122.3321, 2019-11-14): Requesting from DarkSky with parameters {'query_parameters': {'exclude': ['alerts', 'flags', 'hourly', 'minutely', 'offset', 'currently']}}\n",
      "INFO:rogue_sky.darksky:(47.6062, -122.3321, 2019-11-14): Persisting to database...\n",
      "INFO:rogue_sky.darksky:(47.6062, -122.3321, 2019-11-14): Serializing to API output...\n"
     ]
    },
    {
     "data": {
      "text/plain": [
       "{'latitude': 47.6062,\n",
       " 'longitude': -122.3321,\n",
       " 'queried_date_utc': '2019-11-14',\n",
       " 'weather_date_utc': '2019-11-10',\n",
       " 'weather_json': {'cloud_cover_pct': 0.93,\n",
       "  'dew_point_f': 48.57,\n",
       "  'humidity_pct': 0.94,\n",
       "  'moon_phase_pct': 0.46,\n",
       "  'ozone': 262.2,\n",
       "  'precip_intensity_avg_in_hr': 0.0004,\n",
       "  'precip_intensity_max_in_hr': 0.0024,\n",
       "  'precip_probability': 0.34,\n",
       "  'precip_type': 'rain',\n",
       "  'pressure': 1026.1,\n",
       "  'sunrise_time_utc': '2019-11-10T15:09:00+00:00',\n",
       "  'sunset_time_utc': '2019-11-11T00:41:00+00:00',\n",
       "  'temperature_max_f': 53.25,\n",
       "  'temperature_max_time_utc': '2019-11-10T21:56:00+00:00',\n",
       "  'temperature_min_f': 44.73,\n",
       "  'temperature_min_time_utc': '2019-11-11T08:00:00+00:00',\n",
       "  'uv_index': 1,\n",
       "  'visibility_mi': 5.174,\n",
       "  'weather_date_utc': '2019-11-10',\n",
       "  'wind_gust_mph': 11.25,\n",
       "  'wind_speed_mph': 3.93}}"
      ]
     },
     "execution_count": 4,
     "metadata": {},
     "output_type": "execute_result"
    }
   ],
   "source": [
    "with mock_darksky_api():\n",
    "    backend_response = darksky.get_weather_forecast(\n",
    "        latitude=COORDINATES[0], \n",
    "        longitude=COORDINATES[1],\n",
    "        api_key=DARKSKY_API_KEY,\n",
    "        database_url=TEST_DATABASE_URL\n",
    "    )\n",
    "\n",
    "backend_response[\"0\"]"
   ]
  },
  {
   "cell_type": "markdown",
   "metadata": {},
   "source": [
    "### Going through the steps...\n",
    "\n",
    "1. Check the database (`darksky._from_database`)\n",
    "    1. If found, serialize (`darksky._serialize`) and return\n",
    "1. If not found, request from darksky (`darksky._from_darksky`)\n",
    "2. Persist to database (`darksky._to_database`)\n",
    "3. Serialize (`darksky._serialize`) and return"
   ]
  },
  {
   "cell_type": "markdown",
   "metadata": {},
   "source": [
    "#### From the database\n",
    "\n",
    "```\n",
    "[\n",
    "    {\n",
    "        latitude: 42.3601,\n",
    "        longitude: -71.0589,\n",
    "        queried_date_utc: \"2019-01-01\",\n",
    "        weather_date_utc: \"2019-01-01\",\n",
    "        weather_json: JSON({\n",
    "            ...\n",
    "        })\n",
    "    },\n",
    "    ...\n",
    "]\n",
    "```"
   ]
  },
  {
   "cell_type": "code",
   "execution_count": 5,
   "metadata": {},
   "outputs": [
    {
     "name": "stderr",
     "output_type": "stream",
     "text": [
      "INFO:rogue_sky.darksky:(47.6062, -122.3321, 2019-11-14): Checking database...\n",
      "INFO:rogue_sky.darksky:(47.6062, -122.3321, 2019-11-14): Found in database!\n"
     ]
    },
    {
     "data": {
      "text/plain": [
       "{'latitude': 47.6062,\n",
       " 'longitude': -122.3321,\n",
       " 'queried_date_utc': '2019-11-14',\n",
       " 'weather_date_utc': '2019-11-10',\n",
       " 'weather_json': '{\"cloud_cover_pct\": 0.93, \"dew_point_f\": 48.57, \"humidity_pct\": 0.94, \"moon_phase_pct\": 0.46, \"ozone\": 262.2, \"precip_intensity_avg_in_hr\": 0.0004, \"precip_intensity_max_in_hr\": 0.0024, \"precip_probability\": 0.34, \"precip_type\": \"rain\", \"pressure\": 1026.1, \"sunrise_time_utc\": \"2019-11-10T15:09:00+00:00\", \"sunset_time_utc\": \"2019-11-11T00:41:00+00:00\", \"temperature_max_f\": 53.25, \"temperature_max_time_utc\": \"2019-11-10T21:56:00+00:00\", \"temperature_min_f\": 44.73, \"temperature_min_time_utc\": \"2019-11-11T08:00:00+00:00\", \"uv_index\": 1, \"visibility_mi\": 5.174, \"weather_date_utc\": \"2019-11-10\", \"wind_gust_mph\": 11.25, \"wind_speed_mph\": 3.93}'}"
      ]
     },
     "execution_count": 5,
     "metadata": {},
     "output_type": "execute_result"
    }
   ],
   "source": [
    "# Finding the above weather forecast\n",
    "from_database_response = darksky._from_database(\n",
    "    latitude=COORDINATES[0], \n",
    "    longitude=COORDINATES[1], \n",
    "    queried_date_utc=backend_response[\"0\"][\"queried_date_utc\"], \n",
    "    database_url=TEST_DATABASE_URL\n",
    ")\n",
    "\n",
    "from_database_response[0]  # type signature must match the output from `_from_darksky` below"
   ]
  },
  {
   "cell_type": "code",
   "execution_count": 6,
   "metadata": {},
   "outputs": [],
   "source": [
    "# Now, let's remove the data persisted from our `backend.get_weather_forecast()` \n",
    "# call so that we can re-upload it (there is a unique constraint on the \n",
    "# latitude, longitude, and query date).\n",
    "\n",
    "with postgres_utilities.get_cursor(pg_url=TEST_DATABASE_URL) as cursor:\n",
    "    cursor.execute(\"TRUNCATE TABLE daily_weather_forecast\")"
   ]
  },
  {
   "cell_type": "code",
   "execution_count": 7,
   "metadata": {},
   "outputs": [
    {
     "name": "stderr",
     "output_type": "stream",
     "text": [
      "INFO:rogue_sky.darksky:(47.6062, -122.3321, 2019-11-14): Checking database...\n",
      "INFO:rogue_sky.darksky:(47.6062, -122.3321, 2019-11-14): Not found in database...\n"
     ]
    },
    {
     "data": {
      "text/plain": [
       "[]"
      ]
     },
     "execution_count": 7,
     "metadata": {},
     "output_type": "execute_result"
    }
   ],
   "source": [
    "# Not finding daily weather\n",
    "# We shouldn't find the forecast now since we just truncated the table.\n",
    "from_database_response = darksky._from_database(\n",
    "    latitude=COORDINATES[0], \n",
    "    longitude=COORDINATES[1], \n",
    "    queried_date_utc=backend_response[\"0\"][\"queried_date_utc\"], \n",
    "    database_url=TEST_DATABASE_URL\n",
    ")\n",
    "\n",
    "from_database_response"
   ]
  },
  {
   "cell_type": "markdown",
   "metadata": {},
   "source": [
    "#### From DarkSky\n",
    "\n",
    "```\n",
    "[\n",
    "    {\n",
    "        latitude: 42.3601,\n",
    "        longitude: -71.0589,\n",
    "        queried_date_utc: \"2019-01-01\",\n",
    "        weather_date_utc: \"2019-01-01\",\n",
    "        weather_json: JSON({\n",
    "            ...\n",
    "        })\n",
    "    },\n",
    "    ...\n",
    "]\n",
    "```"
   ]
  },
  {
   "cell_type": "code",
   "execution_count": 8,
   "metadata": {},
   "outputs": [
    {
     "name": "stderr",
     "output_type": "stream",
     "text": [
      "INFO:rogue_sky.darksky:(47.6062, -122.3321, 2019-11-14): Requesting from DarkSky with parameters {'query_parameters': {'exclude': ['alerts', 'flags', 'hourly', 'minutely', 'offset', 'currently']}}\n"
     ]
    },
    {
     "data": {
      "text/plain": [
       "{'latitude': 47.6062,\n",
       " 'longitude': -122.3321,\n",
       " 'queried_date_utc': '2019-11-14',\n",
       " 'weather_date_utc': '2019-11-10',\n",
       " 'weather_json': '{\"cloud_cover_pct\": 0.93, \"dew_point_f\": 48.57, \"humidity_pct\": 0.94, \"moon_phase_pct\": 0.46, \"ozone\": 262.2, \"precip_intensity_avg_in_hr\": 0.0004, \"precip_intensity_max_in_hr\": 0.0024, \"precip_probability\": 0.34, \"precip_type\": \"rain\", \"pressure\": 1026.1, \"sunrise_time_utc\": \"2019-11-10T15:09:00+00:00\", \"sunset_time_utc\": \"2019-11-11T00:41:00+00:00\", \"temperature_max_f\": 53.25, \"temperature_max_time_utc\": \"2019-11-10T21:56:00+00:00\", \"temperature_min_f\": 44.73, \"temperature_min_time_utc\": \"2019-11-11T08:00:00+00:00\", \"uv_index\": 1, \"visibility_mi\": 5.174, \"weather_date_utc\": \"2019-11-10\", \"wind_gust_mph\": 11.25, \"wind_speed_mph\": 3.93}'}"
      ]
     },
     "execution_count": 8,
     "metadata": {},
     "output_type": "execute_result"
    }
   ],
   "source": [
    "# If could not find in the database we would...\n",
    "# query DarkSky and parse...\n",
    "with mock_darksky_api():\n",
    "    darksky_response = darksky._from_darksky(\n",
    "        latitude=COORDINATES[0],\n",
    "        longitude=COORDINATES[1],\n",
    "        queried_date_utc=backend_response[\"0\"][\"queried_date_utc\"],\n",
    "        api_key=DARKSKY_API_KEY,\n",
    "    )\n",
    "\n",
    "darksky_response[0]"
   ]
  },
  {
   "cell_type": "markdown",
   "metadata": {},
   "source": [
    "#### To the database"
   ]
  },
  {
   "cell_type": "code",
   "execution_count": 9,
   "metadata": {},
   "outputs": [
    {
     "name": "stderr",
     "output_type": "stream",
     "text": [
      "INFO:rogue_sky.darksky:(47.6062, -122.3321, 2019-11-14): Persisting to database...\n"
     ]
    }
   ],
   "source": [
    "# if we could not find in the database we would...\n",
    "# query DarkSky, parse it, and persist to the database...\n",
    "\n",
    "darksky._to_database(response=darksky_response, database_url=TEST_DATABASE_URL)"
   ]
  },
  {
   "cell_type": "markdown",
   "metadata": {},
   "source": [
    "#### Serialize the output\n",
    "\n",
    "```\n",
    "{\n",
    "    0: {\n",
    "        \"latitude\": 42.3601,\n",
    "        \"longitude\": -71.0589,\n",
    "        \"queried_date_utc\": \"2019-11-10\",\n",
    "        \"weather_date_utc\": \"2019-11-10\",\n",
    "        \"weather_json\": weather_json,\n",
    "    },\n",
    "    1: {\n",
    "        \"latitude\": 42.3601,\n",
    "        \"longitude\": -71.0589,\n",
    "        \"queried_date_utc\": \"2019-01-01\",\n",
    "        \"weather_date_utc\": \"2019-11-11\",\n",
    "        \"weather_json\": weather_json,\n",
    "    },\n",
    "    ...\n",
    "}\n",
    "```"
   ]
  },
  {
   "cell_type": "code",
   "execution_count": 10,
   "metadata": {},
   "outputs": [
    {
     "name": "stderr",
     "output_type": "stream",
     "text": [
      "INFO:rogue_sky.darksky:(47.6062, -122.3321, 2019-11-14): Serializing to API output...\n"
     ]
    },
    {
     "data": {
      "text/plain": [
       "{'latitude': 47.6062,\n",
       " 'longitude': -122.3321,\n",
       " 'queried_date_utc': '2019-11-14',\n",
       " 'weather_date_utc': '2019-11-10',\n",
       " 'weather_json': {'cloud_cover_pct': 0.93,\n",
       "  'dew_point_f': 48.57,\n",
       "  'humidity_pct': 0.94,\n",
       "  'moon_phase_pct': 0.46,\n",
       "  'ozone': 262.2,\n",
       "  'precip_intensity_avg_in_hr': 0.0004,\n",
       "  'precip_intensity_max_in_hr': 0.0024,\n",
       "  'precip_probability': 0.34,\n",
       "  'precip_type': 'rain',\n",
       "  'pressure': 1026.1,\n",
       "  'sunrise_time_utc': '2019-11-10T15:09:00+00:00',\n",
       "  'sunset_time_utc': '2019-11-11T00:41:00+00:00',\n",
       "  'temperature_max_f': 53.25,\n",
       "  'temperature_max_time_utc': '2019-11-10T21:56:00+00:00',\n",
       "  'temperature_min_f': 44.73,\n",
       "  'temperature_min_time_utc': '2019-11-11T08:00:00+00:00',\n",
       "  'uv_index': 1,\n",
       "  'visibility_mi': 5.174,\n",
       "  'weather_date_utc': '2019-11-10',\n",
       "  'wind_gust_mph': 11.25,\n",
       "  'wind_speed_mph': 3.93}}"
      ]
     },
     "execution_count": 10,
     "metadata": {},
     "output_type": "execute_result"
    }
   ],
   "source": [
    "serialized_daily_forecast = darksky._serialize(response=darksky_response)\n",
    "\n",
    "serialized_daily_forecast[\"0\"]"
   ]
  },
  {
   "cell_type": "markdown",
   "metadata": {},
   "source": [
    "### Understanding the data\n",
    "\n",
    "```\n",
    "{\n",
    "    'latitude': 47.6062,\n",
    "    'longitude': -122.3321,\n",
    "    'timezone': 'America/Los_Angeles',\n",
    "    'currently': dict  current weather,\n",
    "    'minutely': {\n",
    "        'icon': 'cloudy',\n",
    "        'data': [dict]  forecast by minute for 60 minutes\n",
    "    },\n",
    "    'hourly': {\n",
    "        'summary': 'cloudy',\n",
    "        'icon': 'cloudy',\n",
    "        'data': [dict]  forecast by hour for 48 hours\n",
    "    },\n",
    "    'daily': {\n",
    "        'summary': 'cloudy',\n",
    "        'icon': 'cloudy',\n",
    "        'data': [dict]  forecast by day for 8 days, including today\n",
    "    }\n",
    "    \n",
    "```"
   ]
  },
  {
   "cell_type": "code",
   "execution_count": 11,
   "metadata": {},
   "outputs": [],
   "source": [
    "# the response from DarkSky\n",
    "\n",
    "with open(\"resources/darksky_response.json\") as json_file:\n",
    "    data = json.load(json_file)"
   ]
  },
  {
   "cell_type": "code",
   "execution_count": 12,
   "metadata": {},
   "outputs": [
    {
     "data": {
      "text/plain": [
       "dict_keys(['latitude', 'longitude', 'timezone', 'currently', 'minutely', 'hourly', 'daily', 'flags', 'offset'])"
      ]
     },
     "execution_count": 12,
     "metadata": {},
     "output_type": "execute_result"
    }
   ],
   "source": [
    "data.keys()"
   ]
  },
  {
   "cell_type": "code",
   "execution_count": 13,
   "metadata": {},
   "outputs": [
    {
     "data": {
      "text/plain": [
       "dict_keys(['summary', 'icon', 'data'])"
      ]
     },
     "execution_count": 13,
     "metadata": {},
     "output_type": "execute_result"
    }
   ],
   "source": [
    "data[\"daily\"].keys()"
   ]
  },
  {
   "cell_type": "code",
   "execution_count": 14,
   "metadata": {},
   "outputs": [
    {
     "data": {
      "text/plain": [
       "list"
      ]
     },
     "execution_count": 14,
     "metadata": {},
     "output_type": "execute_result"
    }
   ],
   "source": [
    "type(data[\"daily\"][\"data\"])"
   ]
  },
  {
   "cell_type": "code",
   "execution_count": 15,
   "metadata": {},
   "outputs": [
    {
     "data": {
      "text/plain": [
       "['time',\n",
       " 'summary',\n",
       " 'icon',\n",
       " 'sunriseTime',\n",
       " 'sunsetTime',\n",
       " 'moonPhase',\n",
       " 'precipIntensity',\n",
       " 'precipIntensityMax',\n",
       " 'precipIntensityMaxTime',\n",
       " 'precipProbability',\n",
       " 'precipType',\n",
       " 'temperatureHigh',\n",
       " 'temperatureHighTime',\n",
       " 'temperatureLow',\n",
       " 'temperatureLowTime',\n",
       " 'apparentTemperatureHigh',\n",
       " 'apparentTemperatureHighTime',\n",
       " 'apparentTemperatureLow',\n",
       " 'apparentTemperatureLowTime',\n",
       " 'dewPoint',\n",
       " 'humidity',\n",
       " 'pressure',\n",
       " 'windSpeed',\n",
       " 'windGust',\n",
       " 'windGustTime',\n",
       " 'windBearing',\n",
       " 'cloudCover',\n",
       " 'uvIndex',\n",
       " 'uvIndexTime',\n",
       " 'visibility',\n",
       " 'ozone',\n",
       " 'temperatureMin',\n",
       " 'temperatureMinTime',\n",
       " 'temperatureMax',\n",
       " 'temperatureMaxTime',\n",
       " 'apparentTemperatureMin',\n",
       " 'apparentTemperatureMinTime',\n",
       " 'apparentTemperatureMax',\n",
       " 'apparentTemperatureMaxTime']"
      ]
     },
     "execution_count": 15,
     "metadata": {},
     "output_type": "execute_result"
    }
   ],
   "source": [
    "list(data[\"daily\"][\"data\"][0].keys())"
   ]
  },
  {
   "cell_type": "code",
   "execution_count": 16,
   "metadata": {},
   "outputs": [
    {
     "data": {
      "text/plain": [
       "{'time': 1573372800,\n",
       " 'summary': 'Foggy in the morning.',\n",
       " 'icon': 'fog',\n",
       " 'sunriseTime': 1573398540,\n",
       " 'sunsetTime': 1573432860,\n",
       " 'moonPhase': 0.46,\n",
       " 'precipIntensity': 0.0004,\n",
       " 'precipIntensityMax': 0.0024,\n",
       " 'precipIntensityMaxTime': 1573448400,\n",
       " 'precipProbability': 0.34,\n",
       " 'precipType': 'rain',\n",
       " 'temperatureHigh': 53.25,\n",
       " 'temperatureHighTime': 1573422960,\n",
       " 'temperatureLow': 40.82,\n",
       " 'temperatureLowTime': 1573481400,\n",
       " 'apparentTemperatureHigh': 52.75,\n",
       " 'apparentTemperatureHighTime': 1573422960,\n",
       " 'apparentTemperatureLow': 38.74,\n",
       " 'apparentTemperatureLowTime': 1573481520,\n",
       " 'dewPoint': 48.57,\n",
       " 'humidity': 0.94,\n",
       " 'pressure': 1026.1,\n",
       " 'windSpeed': 3.93,\n",
       " 'windGust': 11.25,\n",
       " 'windGustTime': 1573434060,\n",
       " 'windBearing': 353,\n",
       " 'cloudCover': 0.93,\n",
       " 'uvIndex': 1,\n",
       " 'uvIndexTime': 1573415700,\n",
       " 'visibility': 5.174,\n",
       " 'ozone': 262.2,\n",
       " 'temperatureMin': 44.73,\n",
       " 'temperatureMinTime': 1573459200,\n",
       " 'temperatureMax': 53.25,\n",
       " 'temperatureMaxTime': 1573422960,\n",
       " 'apparentTemperatureMin': 42.78,\n",
       " 'apparentTemperatureMinTime': 1573459200,\n",
       " 'apparentTemperatureMax': 52.75,\n",
       " 'apparentTemperatureMaxTime': 1573422960}"
      ]
     },
     "execution_count": 16,
     "metadata": {},
     "output_type": "execute_result"
    }
   ],
   "source": [
    "# times are in UNIX time\n",
    "# `time` is in local time, but all other times are in UTC (e.g. `sunriseTime`)\n",
    "\n",
    "data[\"daily\"][\"data\"][0]"
   ]
  },
  {
   "cell_type": "code",
   "execution_count": 17,
   "metadata": {},
   "outputs": [],
   "source": [
    "from rogue_sky import stars"
   ]
  },
  {
   "cell_type": "code",
   "execution_count": 20,
   "metadata": {},
   "outputs": [],
   "source": [
    "with open(\"/Users/camen/Documents/rogue-sky/backend/tests/resources/test_serialized_weather_forecast.json\", \"w\") as outfile:\n",
    "    json.dump(serialized_daily_forecast, outfile)"
   ]
  },
  {
   "cell_type": "code",
   "execution_count": null,
   "metadata": {},
   "outputs": [],
   "source": []
  }
 ],
 "metadata": {
  "kernelspec": {
   "display_name": "rogue-sky3.6",
   "language": "python",
   "name": "rogue_sky3_6"
  },
  "language_info": {
   "codemirror_mode": {
    "name": "ipython",
    "version": 3
   },
   "file_extension": ".py",
   "mimetype": "text/x-python",
   "name": "python",
   "nbconvert_exporter": "python",
   "pygments_lexer": "ipython3",
   "version": "3.6.9"
  }
 },
 "nbformat": 4,
 "nbformat_minor": 2
}
